{
 "cells": [
  {
   "cell_type": "markdown",
   "metadata": {},
   "source": [
    "\n",
    "# Bug hunting with Lauge.\n",
    "_File Description_\n",
    "\n",
    "In this file, we will hunt systematically for bugs in the entire code base.\n",
    "When making changes to the code, please tun the relevant sections in this file (preferably all of them) to make \n",
    "sure that nothing breaks, and that it yields the results that you expect.\n"
   ]
  },
  {
   "cell_type": "code",
   "execution_count": 31,
   "metadata": {},
   "outputs": [],
   "source": [
    "# imports\n",
    "import os\n",
    "import sys\n",
    "import time\n",
    "import json\n",
    "import math\n",
    "\n",
    "from tqdm import tqdm\n",
    "from PIL import Image\n",
    "import torch as th\n",
    "import matplotlib.pyplot as plt\n",
    "import pytorch_lightning as pl\n",
    "\n",
    "from model_camera_calibration import CameraCalibrationModel\n",
    "from model_camera_extrinsics import CameraExtrinsics\n",
    "from model_interpolation_architecture import NerfModel, PositionalEncoding, BarfPositionalEncoding, IdentityPositionalEncoding, FourierFeatures\n",
    "from model_interpolation import NerfInterpolation\n",
    "from dataset import ImagePoseDataset\n",
    "from data_module import ImagePoseDataModule\n",
    "from Lie_barf import Lie"
   ]
  },
  {
   "cell_type": "markdown",
   "metadata": {},
   "source": [
    "## Dataset"
   ]
  },
  {
   "cell_type": "code",
   "execution_count": 2,
   "metadata": {},
   "outputs": [
    {
     "name": "stdout",
     "output_type": "stream",
     "text": [
      "_apply_noise\n",
      "_get_cam_origs_and_directions\n",
      "_get_directions_meshgrid\n",
      "_load_camera_info\n",
      "_load_images\n",
      "_meshgrid_to_world\n",
      "_screw_up_original_camera_poses_for_testing_validation_transform_in_CameraCalibrationModel\n",
      "_transform_camera_to_world\n",
      "gaussian_blur\n",
      "subset_dataset\n"
     ]
    }
   ],
   "source": [
    "# list all methods of imageposedataset\n",
    "methods = [method for method in dir(ImagePoseDataset) if callable(getattr(ImagePoseDataset, method)) and not method.startswith(\"__\")]\n",
    "print(\"\\n\".join(methods))\n"
   ]
  },
  {
   "cell_type": "markdown",
   "metadata": {},
   "source": [
    "### `_load_camera_info()`"
   ]
  },
  {
   "cell_type": "code",
   "execution_count": 3,
   "metadata": {},
   "outputs": [
    {
     "name": "stdout",
     "output_type": "stream",
     "text": [
      "Camera test passed. Found error:\n",
      "  ValueError: camera_to_world matrices are expected to have scale 1, found 2.0 in ./train/r_0\n",
      "as expected when trying to load scaled cam to world matrices\n"
     ]
    }
   ],
   "source": [
    "try:\n",
    "    ImagePoseDataset._load_camera_info(\"../data/lego/transforms_train_modified.json\", 200)\n",
    "except ValueError as e:\n",
    "    print(f\"Camera test passed. Found error:\\n  ValueError: {e}\\nas expected when trying to load scaled cam to world matrices\")\n",
    "except Exception as e:\n",
    "    print(f\"Camera test failed. Found error:\\n  {e} \\nwhen trying to load scaled cam to world matrices\")"
   ]
  },
  {
   "cell_type": "code",
   "execution_count": 4,
   "metadata": {},
   "outputs": [
    {
     "name": "stdout",
     "output_type": "stream",
     "text": [
      "Camera info test passed\n"
     ]
    }
   ],
   "source": [
    "# test only _load_camera_info\n",
    "\n",
    "img_names = \"r_0\", \"r_1\"\n",
    "\n",
    "camera_data_modified = json.loads(open(\"../data/lego/transforms_train.json\").read())\n",
    "_, cam_to_world_test = ImagePoseDataset._load_camera_info(\"../data/lego/transforms_train.json\", 200)\n",
    "cam_to_world_true = {data[\"file_path\"].split(\"/\")[-1]: th.tensor(data[\"transform_matrix\"]) for data in camera_data_modified[\"frames\"]}\n",
    "\n",
    "for img_name in img_names:\n",
    "    assert th.allclose(cam_to_world_test[img_name][:3,:3], cam_to_world_true[img_name][:3,:3]), f\"Rotation matrix not equal for {img_name}\"\n",
    "    assert th.allclose(cam_to_world_test[img_name][:3,3]/cam_to_world_test[img_name][3,3],\n",
    "                       cam_to_world_true[img_name][:3,3]/cam_to_world_true[img_name][3,3]), f\"Translation matrix not equal for {img_name}\"\n",
    "print(\"Camera info test passed\")\n"
   ]
  },
  {
   "cell_type": "markdown",
   "metadata": {},
   "source": [
    "### `_get_directions_meshgrid()`"
   ]
  },
  {
   "cell_type": "code",
   "execution_count": 5,
   "metadata": {},
   "outputs": [
    {
     "name": "stdout",
     "output_type": "stream",
     "text": [
      "Meshgrid test passed\n"
     ]
    }
   ],
   "source": [
    "meshgrid = ImagePoseDataset._get_directions_meshgrid(image_height=4, image_width=2, focal_length=4)\n",
    "target_meshgrid_raw = th.tensor([\n",
    "                                [-1/8,  3/8, -1],\n",
    "                                [ 1/8,  3/8, -1],\n",
    "                                [-1/8,  1/8, -1],\n",
    "                                [ 1/8,  1/8, -1],\n",
    "                                [-1/8, -1/8, -1],\n",
    "                                [ 1/8, -1/8, -1],\n",
    "                                [-1/8, -3/8, -1],\n",
    "                                [ 1/8, -3/8, -1],\n",
    "                            ])\n",
    "target_meshgrid_normalized = target_meshgrid_raw/th.linalg.vector_norm(target_meshgrid_raw, dim=1, keepdim=True)\n",
    "\n",
    "assert th.allclose(meshgrid, target_meshgrid_normalized), \"Meshgrid not equal\"\n",
    "print(\"Meshgrid test passed\")"
   ]
  },
  {
   "cell_type": "code",
   "execution_count": 6,
   "metadata": {},
   "outputs": [
    {
     "data": {
      "text/plain": [
       "tensor([ 0.3750,  0.1250, -0.1250, -0.3750])"
      ]
     },
     "execution_count": 6,
     "metadata": {},
     "output_type": "execute_result"
    }
   ],
   "source": [
    "target_meshgrid_raw.view(4,2,3)[: , 0 , 1]"
   ]
  },
  {
   "cell_type": "markdown",
   "metadata": {},
   "source": [
    "### `_get_cam_origs_and_directions()`"
   ]
  },
  {
   "cell_type": "code",
   "execution_count": 7,
   "metadata": {},
   "outputs": [
    {
     "name": "stdout",
     "output_type": "stream",
     "text": [
      "Camera origin and direction test passed\n"
     ]
    }
   ],
   "source": [
    "R = CameraExtrinsics.so3_to_SO3(th.tensor([0.9, 0.2, 0.3]))\n",
    "t = th.tensor([2.3, 0.2, 1.3])\n",
    "cam_to_world = th.eye(4)\n",
    "cam_to_world[:3,:3] = R\n",
    "cam_to_world[:3,3] = t\n",
    "\n",
    "d = R @ th.tensor([0,0,-1.])\n",
    "o = t\n",
    "\n",
    "o_hat, d_hat = ImagePoseDataset._get_cam_origs_and_directions(cam_to_world.unsqueeze(0))\n",
    "\n",
    "assert th.allclose(o, o_hat), \"Camera origin not equal\"\n",
    "assert th.allclose(d, d_hat), \"Camera direction not equal\"\n",
    "print(\"Camera origin and direction test passed\")"
   ]
  },
  {
   "cell_type": "markdown",
   "metadata": {},
   "source": [
    "### `_meshgrid_to_world()`"
   ]
  },
  {
   "cell_type": "code",
   "execution_count": 8,
   "metadata": {},
   "outputs": [
    {
     "name": "stdout",
     "output_type": "stream",
     "text": [
      "Meshgrid to world test passed\n"
     ]
    }
   ],
   "source": [
    "meshgrid = th.tensor([[0,0.,-1],\n",
    "                      [0,0.,-1]])\n",
    "world_origs, world_dir = ImagePoseDataset._meshgrid_to_world(meshgrid, cam_to_world.unsqueeze(0))\n",
    "assert th.allclose(world_dir, d.repeat(2,1)), \"Directions to world not equal\"\n",
    "assert th.allclose(world_origs, o.repeat(2,1)), \"Origins to world not equal\"\n",
    "print(\"Meshgrid to world test passed\")"
   ]
  },
  {
   "cell_type": "markdown",
   "metadata": {},
   "source": [
    "### `_apply_noise()`"
   ]
  },
  {
   "cell_type": "code",
   "execution_count": 9,
   "metadata": {},
   "outputs": [],
   "source": [
    "dataset = ImagePoseDataset(15, 10, \"../data/lego/train/\", \"../data/lego/transforms_train.json\", 1, th.tensor([0,0,0.]), 0.15, 0.15, 42)"
   ]
  },
  {
   "cell_type": "code",
   "execution_count": 10,
   "metadata": {},
   "outputs": [],
   "source": [
    "camera_origs, camera_dirs = dataset.camera_origins, dataset.camera_directions\n",
    "camera_origs_noisy, camera_dirs_noisy = dataset.camera_origins_noisy, dataset.camera_directions_noisy\n",
    "\n",
    "ray_origs, ray_dirs_mean = dataset.ray_origins, dataset.ray_directions\n",
    "ray_origs_noisy, ray_dirs_noisy_mean = dataset.ray_origins_noisy, dataset.ray_directions_noisy\n",
    "\n"
   ]
  },
  {
   "cell_type": "code",
   "execution_count": 11,
   "metadata": {},
   "outputs": [
    {
     "name": "stdout",
     "output_type": "stream",
     "text": [
      "Ray origins error: 0.2472\n",
      "Camera origins error: 0.2472\n",
      "Ray directions angle: 11.7160\n",
      "Camera directions angle: 11.7020\n"
     ]
    }
   ],
   "source": [
    "assert th.allclose(camera_origs.unsqueeze(1).repeat(1,ray_origs.shape[1],1),ray_origs), \"Camera origins not equal to ray origins\"\n",
    "\n",
    "ray_origs_errors = ((ray_origs - ray_origs_noisy)**2).sum(dim=-1).mean()**0.5\n",
    "camera_origs_errors = ((camera_origs - camera_origs_noisy)**2).sum(dim=-1).mean()**0.5\n",
    "\n",
    "ray_dirs_cossim = (ray_dirs_mean*ray_dirs_noisy_mean).sum(dim=-1)/th.linalg.vector_norm(ray_dirs_mean, dim=-1)/th.linalg.vector_norm(ray_dirs_noisy_mean, dim=-1)\n",
    "ray_dirs_angle = (th.acos(ray_dirs_cossim)**2).mean()**0.5\n",
    "camera_dirs_cossim = (camera_dirs*camera_dirs_noisy).sum(dim=-1)/th.linalg.vector_norm(camera_dirs, dim=-1)/th.linalg.vector_norm(camera_dirs_noisy, dim=-1)\n",
    "camera_dirs_angle = (th.acos(camera_dirs_cossim)**2).mean()**0.5\n",
    "\n",
    "print(f\"Ray origins error: {ray_origs_errors:.4f}\")\n",
    "print(f\"Camera origins error: {camera_origs_errors:.4f}\")\n",
    "\n",
    "print(f\"Ray directions angle: {ray_dirs_angle*180/th.pi:.4f}\")\n",
    "print(f\"Camera directions angle: {camera_dirs_angle*180/th.pi:.4f}\")\n"
   ]
  },
  {
   "cell_type": "markdown",
   "metadata": {},
   "source": [
    "### `subset_dataset()`"
   ]
  },
  {
   "cell_type": "code",
   "execution_count": 12,
   "metadata": {},
   "outputs": [],
   "source": [
    "dataset = ImagePoseDataset(200,\n",
    "                           100,\n",
    "                           \"../data/lego/train/\",\n",
    "                           \"../data/lego/transforms_train.json\",\n",
    "                           1, th.tensor([0,0,0.]),\n",
    "                           0.15, 0.15, 42,\n",
    "                           gaussian_blur_sigmas=[20, 5, 0.])"
   ]
  },
  {
   "cell_type": "code",
   "execution_count": 13,
   "metadata": {},
   "outputs": [],
   "source": [
    "image_names1 = [f\"r_{i}\" for i in [1,5,4,23,29,78,3,55,12,13,15]]\n",
    "image_names2 = [image_names1[i] for i in [0,7,10,2]]\n",
    "\n",
    "dataset1 = dataset.subset_dataset(image_names1)\n",
    "dataset2 = dataset1.subset_dataset(image_names2)"
   ]
  },
  {
   "cell_type": "code",
   "execution_count": 14,
   "metadata": {},
   "outputs": [
    {
     "data": {
      "image/png": "[encoded data removed]",
      "text/plain": [
       "<Figure size 500x200 with 3 Axes>"
      ]
     },
     "metadata": {},
     "output_type": "display_data"
    },
    {
     "data": {
      "image/png": "[encoded data removed]",
      "text/plain": [
       "<Figure size 500x200 with 3 Axes>"
      ]
     },
     "metadata": {},
     "output_type": "display_data"
    },
    {
     "data": {
      "image/png": "[encoded data removed]",
      "text/plain": [
       "<Figure size 500x200 with 3 Axes>"
      ]
     },
     "metadata": {},
     "output_type": "display_data"
    },
    {
     "data": {
      "image/png": "[encoded data removed]",
      "text/plain": [
       "<Figure size 500x200 with 3 Axes>"
      ]
     },
     "metadata": {},
     "output_type": "display_data"
    },
    {
     "name": "stdout",
     "output_type": "stream",
     "text": [
      "Image name to index test passed\n",
      "Index to index test passed\n",
      "subset_dataset test passed\n"
     ]
    }
   ],
   "source": [
    "# test the image name to index\n",
    "for i, img_name in enumerate(image_names2):\n",
    "    fig = plt.figure(figsize=(5, 2))\n",
    "    images = []\n",
    "    for j, d in enumerate([dataset, dataset1, dataset2]):\n",
    "        fig.add_subplot(1, 3, j+1)\n",
    "        im = d.images[d.image_name_to_index[img_name], :, :, -1]\n",
    "        assert im.shape[:2] == (d.image_height, d.image_width), f\"Image {img_name} has wrong shape {im.shape}\"\n",
    "        plt.imshow(im)\n",
    "        images.append(im)\n",
    "\n",
    "    assert th.allclose(images[0], images[1]), f\"Image {img_name} not equal for dataset1\"\n",
    "    assert th.allclose(images[0], images[2]), f\"Image {img_name} not equal for dataset2\"\n",
    "    plt.show()\n",
    "\n",
    "print(\"Image name to index test passed\")\n",
    "\n",
    "# test index to index\n",
    "for name in image_names2:\n",
    "    # get the index in datasets\n",
    "    idx = dataset.image_name_to_index[name]\n",
    "    idx1 = dataset1.index_to_index[dataset1.image_name_to_index[name]]\n",
    "    idx2 = dataset2.index_to_index[dataset2.image_name_to_index[name]]\n",
    "\n",
    "    assert idx == idx1, f\"Index {idx} not equal to index1 {idx1} for image {name}\"\n",
    "    assert idx == idx2, f\"Index {idx} not equal to index2 {idx2} for image {name}\"\n",
    "\n",
    "print(\"Index to index test passed\")\n",
    "\n",
    "print(\"subset_dataset test passed\")\n",
    "\n"
   ]
  },
  {
   "cell_type": "markdown",
   "metadata": {},
   "source": [
    "### Final check"
   ]
  },
  {
   "cell_type": "code",
   "execution_count": 15,
   "metadata": {},
   "outputs": [
    {
     "name": "stdout",
     "output_type": "stream",
     "text": [
      "Loading camera info...\n"
     ]
    },
    {
     "name": "stderr",
     "output_type": "stream",
     "text": [
      "Loading images: 100%|██████████| 100/100 [00:00<00:00, 1943.48it/s]"
     ]
    },
    {
     "name": "stderr",
     "output_type": "stream",
     "text": [
      "\n",
      "Applying gaussian blur: 100%|██████████| 100/100 [00:00<00:00, 1545.54it/s]\n",
      "Converting to tensor: 100%|██████████| 100/100 [00:00<00:00, 2394.26it/s]\n"
     ]
    },
    {
     "name": "stdout",
     "output_type": "stream",
     "text": [
      "Generating rays...\n",
      "Applying noise...\n",
      "Done loading data!\n"
     ]
    }
   ],
   "source": [
    "height, width = 79, 123\n",
    "\n",
    "# instatiate the dataset\n",
    "dataset = ImagePoseDataset(\n",
    "                           width,\n",
    "                           height,\n",
    "                           \"../data/lego/train/\", \n",
    "                           \"../data/lego/transforms_train.json\", \n",
    "                           1, \n",
    "                           th.tensor([0,0,0.]), \n",
    "                           0.15, \n",
    "                           0.15, \n",
    "                           42, \n",
    "                           gaussian_blur_sigmas=[20, 5, 0.],\n",
    "                           verbose=True)\n",
    "\n"
   ]
  },
  {
   "cell_type": "code",
   "execution_count": 16,
   "metadata": {},
   "outputs": [
    {
     "name": "stdout",
     "output_type": "stream",
     "text": [
      "Focal length test passed\n"
     ]
    }
   ],
   "source": [
    "transforms = json.loads(open(\"../data/lego/transforms_train_modified.json\").read())\n",
    "camera_angle_x = transforms[\"camera_angle_x\"]\n",
    "focal_length = (width / 2) / math.tan(camera_angle_x / 2)\n",
    "assert dataset.focal_length == focal_length, \"Focal length not equal\"\n",
    "print(\"Focal length test passed\")"
   ]
  },
  {
   "cell_type": "code",
   "execution_count": 17,
   "metadata": {},
   "outputs": [
    {
     "name": "stderr",
     "output_type": "stream",
     "text": [
      " 16%|█▌        | 16/100 [00:00<00:00, 154.29it/s]"
     ]
    },
    {
     "name": "stderr",
     "output_type": "stream",
     "text": [
      "100%|██████████| 100/100 [00:00<00:00, 155.93it/s]\n"
     ]
    }
   ],
   "source": [
    "idx = th.tensor([((width - 1)/2 - j, -(height-1)/2 + i) for i in range(height) for j in range(width)])\n",
    "alpha = (th.linalg.vector_norm(idx, dim=1)**2 + focal_length**2)**0.5\n",
    "\n",
    "ray_dirs = dataset.ray_directions\n",
    "ray_dirs = ray_dirs * alpha.unsqueeze(0).unsqueeze(-1)\n",
    "\n",
    "for img_idx in tqdm(range(dataset.n_images)):\n",
    "    for i in range(height):\n",
    "        vertical_diff = ray_dirs[img_idx, width*i:width*(i+1)-1] - ray_dirs[img_idx, width*i+1:width*(i+1)]\n",
    "        vertical_diff = th.linalg.vector_norm(vertical_diff, dim=-1)\n",
    "        assert (vertical_diff.max() - 1).abs() < 1e-4, f\"Vertical diff not equal to 1 for image {img_idx} - was {vertical_diff.max()}\"\n",
    "\n",
    "        if i != 0:\n",
    "            horizontal_diff = ray_dirs[img_idx, width*(i-1):width*i] - ray_dirs[img_idx, width*i:width*(i+1)]\n",
    "            horizontal_diff = th.linalg.vector_norm(horizontal_diff, dim=-1)\n",
    "            assert (horizontal_diff.max() - 1).abs() < 1e-4, f\"Horizontal diff not equal to 1 for image {img_idx} - was {horizontal_diff.max()}\"\n",
    "\n"
   ]
  },
  {
   "cell_type": "code",
   "execution_count": 18,
   "metadata": {},
   "outputs": [
    {
     "name": "stdout",
     "output_type": "stream",
     "text": [
      "Camera directions compared to ray directions test passed\n"
     ]
    }
   ],
   "source": [
    "assert th.allclose(th.linalg.vector_norm(dataset.ray_directions.view(-1, 3), ord=2, dim=1),\n",
    "                   th.ones(dataset.ray_directions.view(-1, 3).shape[0])), \"Ray directions not normalized\"\n",
    "\n",
    "ray_dirs_mean = dataset.ray_directions.mean(dim=1)\n",
    "ray_dirs_mean = ray_dirs_mean / th.linalg.vector_norm(ray_dirs_mean, ord=2, dim=1, keepdim=True)\n",
    "\n",
    "assert th.allclose(dataset.camera_directions, ray_dirs_mean), \"Camera directions not equal to ray directions\"\n",
    "\n",
    "print(\"Camera directions compared to ray directions test passed\")"
   ]
  },
  {
   "cell_type": "code",
   "execution_count": 19,
   "metadata": {},
   "outputs": [
    {
     "name": "stdout",
     "output_type": "stream",
     "text": [
      "Noisy camera directions compared to noisy ray directions test passed\n"
     ]
    }
   ],
   "source": [
    "assert th.allclose(th.linalg.vector_norm(dataset.ray_directions_noisy.view(-1, 3), ord=2, dim=1),\n",
    "                   th.ones(dataset.ray_directions.view(-1, 3).shape[0])), \"Ray directions not normalized\"\n",
    "\n",
    "\n",
    "ray_dirs_noisy_mean = dataset.ray_directions_noisy.mean(dim=1)\n",
    "ray_dirs_noisy_mean = ray_dirs_noisy_mean / th.linalg.vector_norm(ray_dirs_noisy_mean, ord=2, dim=1, keepdim=True)\n",
    "\n",
    "assert th.allclose(dataset.camera_directions_noisy, ray_dirs_noisy_mean), \"Camera directions not equal to noisy ray directions\"\n",
    "\n",
    "print(\"Noisy camera directions compared to noisy ray directions test passed\")\n"
   ]
  },
  {
   "cell_type": "markdown",
   "metadata": {},
   "source": [
    "## Camera Extrinsics"
   ]
  },
  {
   "cell_type": "markdown",
   "metadata": {},
   "source": [
    "### `so3_to_SO3`: ours vs BARF"
   ]
  },
  {
   "cell_type": "code",
   "execution_count": 20,
   "metadata": {},
   "outputs": [
    {
     "name": "stdout",
     "output_type": "stream",
     "text": [
      "BARF: max(R.T @ R) = 1.546e+00\n",
      "ours: max(R.T @ R) = 1.311e-05\n",
      "so3_to_SO3 test passed\n"
     ]
    }
   ],
   "source": [
    "lie = Lie()\n",
    "\n",
    "params = th.randn(1000, 3, requires_grad=True)*th.rand(1000,1)*3\n",
    "\n",
    "R_barf = lie.so3_to_SO3(params)\n",
    "R_ours = CameraExtrinsics.so3_to_SO3(params)\n",
    "\n",
    "barf_error = (th.matmul(R_barf.permute(0,2,1), R_barf) - th.eye(3).unsqueeze(0)).abs().max()\n",
    "ours_error = (th.matmul(R_ours.permute(0,2,1), R_ours) - th.eye(3).unsqueeze(0)).abs().max()\n",
    "\n",
    "print(f\"BARF: max(R.T @ R) = {barf_error:.3e}\")\n",
    "print(f\"ours: max(R.T @ R) = {ours_error:.3e}\")\n",
    "\n",
    "assert ours_error < 1e-4, \"Our implementation not correct\"\n",
    "\n",
    "print(\"so3_to_SO3 test passed\")"
   ]
  },
  {
   "cell_type": "code",
   "execution_count": 21,
   "metadata": {},
   "outputs": [],
   "source": [
    "n_param_samples = 301\n",
    "n_v_samples = 101\n",
    "\n",
    "\n",
    "def loss(params, v, s03_to_SO3) -> th.Tensor:\n",
    "    R = s03_to_SO3(params)\n",
    "    v = th.matmul(R.unsqueeze(0), v).view(-1,3)\n",
    "    l = th.nn.functional.mse_loss(v, th.ones_like(v))\n",
    "    l = l*(th.log(l) - 1)\n",
    "    return l\n",
    "\n",
    "params1d = th.stack(\n",
    "                   (\n",
    "                   2.4*th.ones(n_param_samples, requires_grad=True),\n",
    "                   th.linspace(-0.1, 7, n_param_samples, requires_grad=True), \n",
    "                   4.3*th.ones(n_param_samples, requires_grad=True),\n",
    "                   ),\n",
    "                   dim = 1).view(-1,3)\n",
    "params1d.retain_grad()\n",
    "\n",
    "params2d = th.stack(\n",
    "                    (*th.meshgrid(\n",
    "                        th.linspace(-0.1, 2.3, n_param_samples, requires_grad=True), \n",
    "                        th.linspace(-0.1, 2.3, n_param_samples, requires_grad=True), indexing=\"ij\"\n",
    "                    ),\n",
    "                   0.1*th.ones((n_param_samples, n_param_samples), requires_grad=True),),\n",
    "                   dim = 1).view(-1,3)\n",
    "params2d.retain_grad()\n",
    "\n",
    "v = th.randn(n_v_samples, 1, 3, 1, requires_grad=True)\n",
    "\n",
    "grads = []\n",
    "\n",
    "for pars in [params1d, params2d]:\n",
    "    grads.append([])\n",
    "    for so3_to_SO3 in [lie.so3_to_SO3, CameraExtrinsics.so3_to_SO3]:\n",
    "        pars.grad = None\n",
    "        l = loss(pars, v, so3_to_SO3)\n",
    "        l.backward(retain_graph=True)\n",
    "        grads[-1].append(pars.grad)\n"
   ]
  },
  {
   "cell_type": "code",
   "execution_count": 22,
   "metadata": {},
   "outputs": [
    {
     "name": "stdout",
     "output_type": "stream",
     "text": [
      "[tensor(0), tensor(0), tensor(0), tensor(0)]\n"
     ]
    },
    {
     "data": {
      "text/plain": [
       "[torch.Size([301, 3]),\n",
       " torch.Size([301, 3]),\n",
       " torch.Size([90601, 3]),\n",
       " torch.Size([90601, 3])]"
      ]
     },
     "execution_count": 22,
     "metadata": {},
     "output_type": "execute_result"
    }
   ],
   "source": [
    "print([th.sum(th.isnan(grad)) for i in range(len(grads)) for grad in grads[i]])\n",
    "[grad.shape for i in range(len(grads)) for grad in grads[i]]\n"
   ]
  },
  {
   "cell_type": "code",
   "execution_count": 23,
   "metadata": {},
   "outputs": [
    {
     "data": {
      "image/png": "[encoded data removed]",
      "text/plain": [
       "<Figure size 640x480 with 1 Axes>"
      ]
     },
     "metadata": {},
     "output_type": "display_data"
    },
    {
     "name": "stdout",
     "output_type": "stream",
     "text": [
      "tensor(1.) tensor(1.)\n"
     ]
    }
   ],
   "source": [
    "# grad_ours_norm = th.linalg.vector_norm(grad_ours, dim=1)\n",
    "# grad_barf_norm = th.linalg.vector_norm(grad_barf, dim=1)\n",
    "\n",
    "grad_norms1d = [th.linalg.vector_norm(grad, dim=-1) for grad in grads[0]]\n",
    "grad_norms2d = [th.linalg.vector_norm(grad, dim=-1) for grad in grads[1]]\n",
    "\n",
    "# plt.plot(grad_ours_norm.detach())\n",
    "# plt.plot(grad_barf_norm.detach())\n",
    "\n",
    "plt.plot(grad_norms1d[0].detach())\n",
    "plt.plot(grad_norms1d[1].detach())\n",
    "plt.show()\n",
    "\n",
    "ratio = grad_norms2d[0].detach().view(n_param_samples, n_param_samples)/grad_norms2d[0].detach().view(n_param_samples, n_param_samples)\n",
    "print(ratio.max(), ratio.min())\n",
    "plt.show()"
   ]
  },
  {
   "cell_type": "markdown",
   "metadata": {},
   "source": [
    "## Data Module"
   ]
  },
  {
   "cell_type": "code",
   "execution_count": 27,
   "metadata": {},
   "outputs": [],
   "source": [
    "dm = ImagePoseDataModule(\"../data/lego/\", 60, 59, rotation_noise_sigma=0.1, translation_noise_sigma=0.1, batch_size=100, num_workers=2, gaussian_blur_sigmas=[20, 5, 0.], verbose=True)"
   ]
  },
  {
   "cell_type": "code",
   "execution_count": 28,
   "metadata": {},
   "outputs": [
    {
     "name": "stdout",
     "output_type": "stream",
     "text": [
      "Loading camera info...\n"
     ]
    },
    {
     "name": "stderr",
     "output_type": "stream",
     "text": [
      "Loading images: 100%|██████████| 100/100 [00:00<00:00, 1915.59it/s]"
     ]
    },
    {
     "name": "stderr",
     "output_type": "stream",
     "text": [
      "\n",
      "Applying gaussian blur: 100%|██████████| 100/100 [00:00<00:00, 3975.34it/s]\n",
      "Converting to tensor: 100%|██████████| 100/100 [00:00<00:00, 2777.72it/s]\n"
     ]
    },
    {
     "name": "stdout",
     "output_type": "stream",
     "text": [
      "Generating rays...\n",
      "Applying noise...\n",
      "Done loading data!\n",
      "Loading camera info...\n"
     ]
    },
    {
     "name": "stderr",
     "output_type": "stream",
     "text": [
      "Loading images: 100%|██████████| 100/100 [00:00<00:00, 1501.65it/s]\n",
      "Applying gaussian blur: 100%|██████████| 100/100 [00:00<00:00, 3951.97it/s]\n",
      "Converting to tensor: 100%|██████████| 100/100 [00:00<00:00, 3635.52it/s]"
     ]
    },
    {
     "name": "stdout",
     "output_type": "stream",
     "text": [
      "Generating rays...\n",
      "Applying noise...\n",
      "Done loading data!\n"
     ]
    },
    {
     "name": "stderr",
     "output_type": "stream",
     "text": [
      "\n"
     ]
    }
   ],
   "source": [
    "dm.setup(\"fit\")"
   ]
  },
  {
   "cell_type": "code",
   "execution_count": null,
   "metadata": {},
   "outputs": [],
   "source": []
  },
  {
   "cell_type": "markdown",
   "metadata": {},
   "source": [
    "## Nerf model\n",
    "_the underlying model_"
   ]
  },
  {
   "cell_type": "code",
   "execution_count": 87,
   "metadata": {},
   "outputs": [
    {
     "name": "stderr",
     "output_type": "stream",
     "text": [
      "Creating models:   9%|▉         | 3/32 [00:00<00:01, 24.52it/s]"
     ]
    },
    {
     "name": "stderr",
     "output_type": "stream",
     "text": [
      "Creating models: 100%|██████████| 32/32 [00:04<00:00,  6.54it/s]\n"
     ]
    }
   ],
   "source": [
    "pe_pos = FourierFeatures(10)\n",
    "pe_dir = FourierFeatures(3)\n",
    "n_hiddens = th.Tensor([126, 256])\n",
    "hidden_dims = th.Tensor([128, 258])\n",
    "delayed_directions = th.Tensor([True, False])\n",
    "delayed_densities = th.Tensor([True, False])\n",
    "n_segmentss = th.Tensor([1, 3])\n",
    "\n",
    "meshgrid = th.meshgrid(n_hiddens,\n",
    "                                hidden_dims,\n",
    "                                delayed_densities,\n",
    "                                delayed_directions,\n",
    "                                n_segmentss,\n",
    "                                indexing=\"ij\")\n",
    "\n",
    "models: list[NerfModel] = []\n",
    "\n",
    "for (n_hidden,\n",
    "     hidden_dim,\n",
    "     delayed_direction,\n",
    "     delayed_density,\n",
    "     n_segments) in tqdm(zip(*tuple(map(lambda x: x.flatten(), meshgrid))), desc=\"Creating models\", total=meshgrid[0].numel()):\n",
    "    n_hidden = int(n_hidden)\n",
    "    hidden_dim = int(hidden_dim)\n",
    "    delayed_density = bool(delayed_density)\n",
    "    delayed_direction = bool(delayed_direction)\n",
    "    n_segments = int(n_segments)\n",
    "    models.append(NerfModel(n_hidden, hidden_dim, delayed_direction, delayed_density, n_segments, pe_pos, pe_dir))\n",
    "\n"
   ]
  },
  {
   "cell_type": "code",
   "execution_count": 89,
   "metadata": {},
   "outputs": [
    {
     "name": "stderr",
     "output_type": "stream",
     "text": [
      "forward passing models:   0%|          | 0/32 [00:00<?, ?it/s]"
     ]
    },
    {
     "name": "stderr",
     "output_type": "stream",
     "text": [
      "forward passing models: 100%|██████████| 32/32 [00:07<00:00,  4.03it/s]\n"
     ]
    }
   ],
   "source": [
    "n_samples = 50\n",
    "\n",
    "col_pseudo_target = th.randn(n_samples, 3) + 10\n",
    "dens_pseudo_target = th.randn(n_samples) + 10\n",
    "\n",
    "pos = th.randn(n_samples, 3)\n",
    "dir = th.randn(n_samples, 3)\n",
    "grads: list[list[th.Tensor]] = []\n",
    "\n",
    "dens_preds = []\n",
    "col_preds = []\n",
    "\n",
    "for model in tqdm(models, desc=\"forward passing models\"):\n",
    "    model.train()\n",
    "    dens_pred, col_pred = model.forward(pos, dir)\n",
    "    loss = th.nn.functional.mse_loss(dens_pred, dens_pseudo_target, reduction=\"sum\") + th.nn.functional.mse_loss(col_pred, col_pseudo_target, reduction=\"sum\")\n",
    "    loss.backward()\n",
    "    grads.append([par.grad for par in model.parameters()])\n",
    "\n",
    "    dens_preds.append(dens_pred)\n",
    "    col_preds.append(col_pred)\n",
    "\n",
    "dens_preds = th.stack(dens_preds)\n",
    "col_preds = th.stack(col_preds)\n",
    "    "
   ]
  },
  {
   "cell_type": "code",
   "execution_count": 90,
   "metadata": {},
   "outputs": [
    {
     "name": "stdout",
     "output_type": "stream",
     "text": [
      "Gradient test passed - no nans or infs\n"
     ]
    }
   ],
   "source": [
    "for i, grad in enumerate(grads):\n",
    "    grad_sum_sq = 0\n",
    "    n_zeros = 0\n",
    "    n_params = 0\n",
    "    for g in grad:\n",
    "        assert not th.any(th.isnan(g)), f\"Found nan in gradient for model {i}\"\n",
    "        assert not th.any(th.isinf(g)), f\"Found inf in gradient for model {i}\"\n",
    "\n",
    "print(\"Gradient test passed - no nans or infs\")"
   ]
  },
  {
   "cell_type": "code",
   "execution_count": 91,
   "metadata": {},
   "outputs": [
    {
     "name": "stdout",
     "output_type": "stream",
     "text": [
      "Density and color predictions test passed\n"
     ]
    }
   ],
   "source": [
    "assert th.any(dens_preds != 0), \"Density predictions are all zero\"\n",
    "assert th.all(dens_preds >= 0), \"found negative density predictions\"\n",
    "assert th.any(col_preds != 0), \"Color predictions are all zero\"\n",
    "assert th.all(col_preds >= 0), \"found negative color predictions\"\n",
    "assert th.all(col_preds <= 1), \"found color predictions larger than 1\"\n",
    "print(\"Density and color predictions test passed\")"
   ]
  },
  {
   "cell_type": "code",
   "execution_count": null,
   "metadata": {},
   "outputs": [],
   "source": [
    "class dummy1:\n",
    "    def __init__(self):\n",
    "        self.a1 = 23\n",
    "\n",
    "class dummy2:\n",
    "    def __init__(self):\n",
    "        self.a2 = 45\n",
    "\n",
    "class dummy3(dummy1, dummy2):\n",
    "    def __init__(self):\n",
    "        dummy2.__init__(self)\n",
    "\n",
    "d3 = dummy3()\n",
    "\n",
    "print(d3.a2)"
   ]
  }
 ],
 "metadata": {
  "kernelspec": {
   "display_name": "nerf-experiments-env",
   "language": "python",
   "name": "python3"
  },
  "language_info": {
   "codemirror_mode": {
    "name": "ipython",
    "version": 3
   },
   "file_extension": ".py",
   "mimetype": "text/x-python",
   "name": "python",
   "nbconvert_exporter": "python",
   "pygments_lexer": "ipython3",
   "version": "3.10.8"
  }
 },
 "nbformat": 4,
 "nbformat_minor": 2
}
