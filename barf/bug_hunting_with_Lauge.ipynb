{
 "cells": [
  {
   "cell_type": "markdown",
   "metadata": {},
   "source": [
    "\n",
    "# Bug hunting with Lauge.\n",
    "_File Description_\n",
    "\n",
    "In this file, we will hunt systematically for bugs in the entire code base.\n",
    "When making changes to the code, please tun the relevant sections in this file (preferably all of them) to make \n",
    "sure that nothing breaks, and that it yields the results that you expect.\n"
   ]
  },
  {
   "cell_type": "code",
   "execution_count": 1,
   "metadata": {},
   "outputs": [],
   "source": [
    "# imports\n",
    "import os\n",
    "import sys\n",
    "import time\n",
    "import json\n",
    "\n",
    "from tqdm import tqdm\n",
    "from PIL import Image\n",
    "import torch as th\n",
    "import matplotlib.pyplot as plt\n",
    "\n",
    "from model_camera_calibration import CameraCalibrationModel\n",
    "from model_camera_extrinsics import CameraExtrinsics\n",
    "from dataset import ImagePoseDataset\n",
    "from data_module import ImagePoseDataModule\n",
    "from Lie_barf import Lie"
   ]
  },
  {
   "cell_type": "markdown",
   "metadata": {},
   "source": [
    "## Testing the dataset"
   ]
  },
  {
   "cell_type": "code",
   "execution_count": 2,
   "metadata": {},
   "outputs": [
    {
     "name": "stdout",
     "output_type": "stream",
     "text": [
      "_apply_noise\n",
      "_get_cam_origs_and_directions\n",
      "_get_directions_meshgrid\n",
      "_load_camera_info\n",
      "_load_images\n",
      "_meshgrid_to_world\n",
      "_screw_up_original_camera_poses_for_testing_validation_transform_in_CameraCalibrationModel\n",
      "_transform_camera_to_world\n",
      "gaussian_blur\n",
      "subset_dataset\n"
     ]
    }
   ],
   "source": [
    "# list all methods of imageposedataset\n",
    "methods = [method for method in dir(ImagePoseDataset) if callable(getattr(ImagePoseDataset, method)) and not method.startswith(\"__\")]\n",
    "print(\"\\n\".join(methods))\n"
   ]
  },
  {
   "cell_type": "markdown",
   "metadata": {},
   "source": [
    "### `_load_camera_info()`"
   ]
  },
  {
   "cell_type": "code",
   "execution_count": 3,
   "metadata": {},
   "outputs": [
    {
     "name": "stdout",
     "output_type": "stream",
     "text": [
      "Camera info test passed\n"
     ]
    }
   ],
   "source": [
    "# test only _load_camera_info\n",
    "\n",
    "img_names = \"r_0\", \"r_1\"\n",
    "\n",
    "camera_data_modified = json.loads(open(\"../data/lego/transforms_train_modified.json\").read())\n",
    "_, cam_to_world_test = ImagePoseDataset._load_camera_info(\"../data/lego/transforms_train_modified.json\", 200)\n",
    "cam_to_world_true = {data[\"file_path\"].split(\"/\")[-1]: th.tensor(data[\"transform_matrix\"]) for data in camera_data_modified[\"frames\"]}\n",
    "\n",
    "for img_name in img_names:\n",
    "    assert th.allclose(cam_to_world_test[img_name][:3,:3], cam_to_world_true[img_name][:3,:3]), f\"Rotation matrix not equal for {img_name}\"\n",
    "    assert th.allclose(cam_to_world_test[img_name][:3,3]/cam_to_world_test[img_name][3,3],\n",
    "                       cam_to_world_true[img_name][:3,3]/cam_to_world_true[img_name][3,3]), f\"Translation matrix not equal for {img_name}\"\n",
    "print(\"Camera info test passed\")\n"
   ]
  },
  {
   "cell_type": "markdown",
   "metadata": {},
   "source": [
    "### `_get_directions_meshgrid()`"
   ]
  },
  {
   "cell_type": "code",
   "execution_count": 85,
   "metadata": {},
   "outputs": [
    {
     "name": "stdout",
     "output_type": "stream",
     "text": [
      "torch.Size([10, 2, 3])\n",
      "tensor([[-0.1250,  1.1250, -1.0000],\n",
      "        [ 0.1250,  1.1250, -1.0000],\n",
      "        [-0.1250,  0.8750, -1.0000],\n",
      "        [ 0.1250,  0.8750, -1.0000],\n",
      "        [-0.1250,  0.6250, -1.0000],\n",
      "        [ 0.1250,  0.6250, -1.0000],\n",
      "        [-0.1250,  0.3750, -1.0000],\n",
      "        [ 0.1250,  0.3750, -1.0000],\n",
      "        [-0.1250,  0.1250, -1.0000],\n",
      "        [ 0.1250,  0.1250, -1.0000],\n",
      "        [-0.1250, -0.1250, -1.0000],\n",
      "        [ 0.1250, -0.1250, -1.0000],\n",
      "        [-0.1250, -0.3750, -1.0000],\n",
      "        [ 0.1250, -0.3750, -1.0000],\n",
      "        [-0.1250, -0.6250, -1.0000],\n",
      "        [ 0.1250, -0.6250, -1.0000],\n",
      "        [-0.1250, -0.8750, -1.0000],\n",
      "        [ 0.1250, -0.8750, -1.0000],\n",
      "        [-0.1250, -1.1250, -1.0000],\n",
      "        [ 0.1250, -1.1250, -1.0000]])\n"
     ]
    }
   ],
   "source": [
    "H, W = 10, 2\n",
    "\n",
    "y, x = th.meshgrid(\n",
    "    -th.linspace(-(H-1)/2, (H-1)/2, H) / 4,\n",
    "    th.linspace(-(W-1)/2, (W-1)/2, W) / 4,\n",
    "    indexing=\"ij\"\n",
    ")\n",
    "directions = th.stack((x, y, -th.ones_like(x)), dim=-1)\n",
    "# directions /= th.norm(directions, p=2, dim=-1, keepdim=True)\n",
    "print(directions.shape)\n",
    "print(directions.view(-1,3))"
   ]
  },
  {
   "cell_type": "code",
   "execution_count": 5,
   "metadata": {},
   "outputs": [
    {
     "name": "stdout",
     "output_type": "stream",
     "text": [
      "Meshgrid test passed\n"
     ]
    }
   ],
   "source": [
    "meshgrid = ImagePoseDataset._get_directions_meshgrid(image_width=2, image_height=4, focal_length=4)\n",
    "target_meshgrid_raw = th.tensor([\n",
    "                                [-1/8,  3/8, -1],\n",
    "                                [ 1/8,  3/8, -1],\n",
    "                                [-1/8,  1/8, -1],\n",
    "                                [ 1/8,  1/8, -1],\n",
    "                                [-1/8, -1/8, -1],\n",
    "                                [ 1/8, -1/8, -1],\n",
    "                                [-1/8, -3/8, -1],\n",
    "                                [ 1/8, -3/8, -1],\n",
    "                            ])\n",
    "target_meshgrid_normalized = target_meshgrid_raw/th.linalg.vector_norm(target_meshgrid_raw, dim=1, keepdim=True)\n",
    "\n",
    "assert th.allclose(meshgrid, target_meshgrid_normalized), \"Meshgrid not equal\"\n",
    "print(\"Meshgrid test passed\")"
   ]
  },
  {
   "cell_type": "markdown",
   "metadata": {},
   "source": [
    "### `_get_cam_origs_and_directions()`"
   ]
  },
  {
   "cell_type": "code",
   "execution_count": 6,
   "metadata": {},
   "outputs": [
    {
     "name": "stdout",
     "output_type": "stream",
     "text": [
      "Camera origin and direction test passed\n"
     ]
    }
   ],
   "source": [
    "R = CameraExtrinsics.so3_to_SO3(th.tensor([0.9, 0.2, 0.3]))\n",
    "t = th.tensor([2.3, 0.2, 1.3])\n",
    "cam_to_world = th.eye(4)\n",
    "cam_to_world[:3,:3] = R\n",
    "cam_to_world[:3,3] = t\n",
    "\n",
    "d = R @ th.tensor([0,0,-1.])\n",
    "o = t\n",
    "\n",
    "o_hat, d_hat = ImagePoseDataset._get_cam_origs_and_directions(cam_to_world.unsqueeze(0))\n",
    "\n",
    "assert th.allclose(o, o_hat), \"Camera origin not equal\"\n",
    "assert th.allclose(d, d_hat), \"Camera direction not equal\"\n",
    "print(\"Camera origin and direction test passed\")"
   ]
  },
  {
   "cell_type": "markdown",
   "metadata": {},
   "source": [
    "### `_meshgrid_to_world()`"
   ]
  },
  {
   "cell_type": "code",
   "execution_count": 7,
   "metadata": {},
   "outputs": [
    {
     "name": "stdout",
     "output_type": "stream",
     "text": [
      "Meshgrid to world test passed\n"
     ]
    }
   ],
   "source": [
    "meshgrid = th.tensor([[0,0.,-1],\n",
    "                      [0,0.,-1]])\n",
    "world_origs, world_dir = ImagePoseDataset._meshgrid_to_world(meshgrid, cam_to_world.unsqueeze(0))\n",
    "assert th.allclose(world_dir, d.repeat(2,1)), \"Directions to world not equal\"\n",
    "assert th.allclose(world_origs, o.repeat(2,1)), \"Origins to world not equal\"\n",
    "print(\"Meshgrid to world test passed\")"
   ]
  },
  {
   "cell_type": "markdown",
   "metadata": {},
   "source": [
    "### `_apply_noise()`"
   ]
  },
  {
   "cell_type": "code",
   "execution_count": 8,
   "metadata": {},
   "outputs": [],
   "source": [
    "dataset = ImagePoseDataset(15, 10, \"../data/lego/train/\", \"../data/lego/transforms_train.json\", 1, th.tensor([0,0,0.]), 0.15, 0.15, 42)"
   ]
  },
  {
   "cell_type": "code",
   "execution_count": 9,
   "metadata": {},
   "outputs": [],
   "source": [
    "camera_origs, camera_dirs = dataset.camera_origins, dataset.camera_directions\n",
    "camera_origs_noisy, camera_dirs_noisy = dataset.camera_origins_noisy, dataset.camera_directions_noisy\n",
    "\n",
    "ray_origs, ray_dirs = dataset.ray_origins, dataset.ray_directions\n",
    "ray_origs_noisy, ray_dirs_noisy = dataset.ray_origins_noisy, dataset.ray_directions_noisy\n",
    "\n"
   ]
  },
  {
   "cell_type": "code",
   "execution_count": 10,
   "metadata": {},
   "outputs": [
    {
     "name": "stdout",
     "output_type": "stream",
     "text": [
      "Ray origins error: 0.2594\n",
      "Camera origins error: 0.2594\n",
      "Ray directions angle: 11.7617\n",
      "Camera directions angle: 11.7020\n"
     ]
    }
   ],
   "source": [
    "assert th.allclose(camera_origs.unsqueeze(1).repeat(1,ray_origs.shape[1],1),ray_origs), \"Camera origins not equal to ray origins\"\n",
    "\n",
    "ray_origs_errors = ((ray_origs - ray_origs_noisy)**2).sum(dim=-1).mean()**0.5\n",
    "camera_origs_errors = ((camera_origs - camera_origs_noisy)**2).sum(dim=-1).mean()**0.5\n",
    "\n",
    "ray_dirs_cossim = (ray_dirs*ray_dirs_noisy).sum(dim=-1)/th.linalg.vector_norm(ray_dirs, dim=-1)/th.linalg.vector_norm(ray_dirs_noisy, dim=-1)\n",
    "ray_dirs_angle = (th.acos(ray_dirs_cossim)**2).mean()**0.5\n",
    "camera_dirs_cossim = (camera_dirs*camera_dirs_noisy).sum(dim=-1)/th.linalg.vector_norm(camera_dirs, dim=-1)/th.linalg.vector_norm(camera_dirs_noisy, dim=-1)\n",
    "camera_dirs_angle = (th.acos(camera_dirs_cossim)**2).mean()**0.5\n",
    "\n",
    "print(f\"Ray origins error: {ray_origs_errors:.4f}\")\n",
    "print(f\"Camera origins error: {camera_origs_errors:.4f}\")\n",
    "\n",
    "print(f\"Ray directions angle: {ray_dirs_angle*180/th.pi:.4f}\")\n",
    "print(f\"Camera directions angle: {camera_dirs_angle*180/th.pi:.4f}\")\n"
   ]
  },
  {
   "cell_type": "markdown",
   "metadata": {},
   "source": [
    "### `subset_dataset()`"
   ]
  },
  {
   "cell_type": "code",
   "execution_count": 82,
   "metadata": {},
   "outputs": [],
   "source": [
    "dataset = ImagePoseDataset(200,\n",
    "                           100,\n",
    "                           \"../data/lego/train/\",\n",
    "                           \"../data/lego/transforms_train.json\",\n",
    "                           1, th.tensor([0,0,0.]),\n",
    "                           0.15, 0.15, 42,\n",
    "                           gaussian_blur_sigmas=[20, 5, 0.])"
   ]
  },
  {
   "cell_type": "code",
   "execution_count": 83,
   "metadata": {},
   "outputs": [],
   "source": [
    "image_names1 = [f\"r_{i}\" for i in [1,5,4,23,29,78,3,55,12,13,15]]\n",
    "image_names2 = [image_names1[i] for i in [0,7,10,2]]\n",
    "\n",
    "dataset1 = dataset.subset_dataset(image_names1)\n",
    "dataset2 = dataset1.subset_dataset(image_names2)"
   ]
  },
  {
   "cell_type": "code",
   "execution_count": 87,
   "metadata": {},
   "outputs": [
    {
     "data": {
      "image/png": "[encoded data removed]",
      "text/plain": [
       "<Figure size 500x200 with 3 Axes>"
      ]
     },
     "metadata": {},
     "output_type": "display_data"
    },
    {
     "data": {
      "image/png": "[encoded data removed]",
      "text/plain": [
       "<Figure size 500x200 with 3 Axes>"
      ]
     },
     "metadata": {},
     "output_type": "display_data"
    },
    {
     "data": {
      "image/png": "[encoded data removed]",
      "text/plain": [
       "<Figure size 500x200 with 3 Axes>"
      ]
     },
     "metadata": {},
     "output_type": "display_data"
    },
    {
     "data": {
      "image/png": "[encoded data removed]",
      "text/plain": [
       "<Figure size 500x200 with 3 Axes>"
      ]
     },
     "metadata": {},
     "output_type": "display_data"
    },
    {
     "name": "stdout",
     "output_type": "stream",
     "text": [
      "Image name to index test passed\n",
      "Index to index test passed\n",
      "subset_dataset test passed\n"
     ]
    }
   ],
   "source": [
    "# test the image name to index\n",
    "for i, img_name in enumerate(image_names2):\n",
    "    fig = plt.figure(figsize=(5, 2))\n",
    "    images = []\n",
    "    for j, d in enumerate([dataset, dataset1, dataset2]):\n",
    "        fig.add_subplot(1, 3, j+1)\n",
    "        im = d.images[d.image_name_to_index[img_name], :, :, -1]\n",
    "        plt.imshow(im)\n",
    "        images.append(im)\n",
    "\n",
    "    assert th.allclose(images[0], images[1]), f\"Image {img_name} not equal for dataset1\"\n",
    "    assert th.allclose(images[0], images[2]), f\"Image {img_name} not equal for dataset2\"\n",
    "    plt.show()\n",
    "\n",
    "print(\"Image name to index test passed\")\n",
    "\n",
    "# test index to index\n",
    "for name in image_names2:\n",
    "    # get the index in datasets\n",
    "    idx = dataset.image_name_to_index[name]\n",
    "    idx1 = dataset1.index_to_index[dataset1.image_name_to_index[name]]\n",
    "    idx2 = dataset2.index_to_index[dataset2.image_name_to_index[name]]\n",
    "\n",
    "    assert idx == idx1, f\"Index {idx} not equal to index1 {idx1} for image {name}\"\n",
    "    assert idx == idx2, f\"Index {idx} not equal to index2 {idx2} for image {name}\"\n",
    "\n",
    "print(\"Index to index test passed\")\n",
    "\n",
    "print(\"subset_dataset test passed\")\n",
    "\n"
   ]
  },
  {
   "cell_type": "markdown",
   "metadata": {},
   "source": [
    "## Camera Extrinsics"
   ]
  },
  {
   "cell_type": "code",
   "execution_count": 80,
   "metadata": {},
   "outputs": [
    {
     "name": "stdout",
     "output_type": "stream",
     "text": [
      "BARF: max(R.T @ R) = 4.107e-05\n",
      "ours: max(R.T @ R) = 9.060e-06\n"
     ]
    }
   ],
   "source": [
    "lie = Lie()\n",
    "\n",
    "params = th.randn(1000, 3, requires_grad=True)*th.rand(1000,1)*2\n",
    "\n",
    "R_barf = lie.so3_to_SO3(params)\n",
    "R_ours = CameraExtrinsics.so3_to_SO3(params)\n",
    "\n",
    "barf_error = (th.matmul(R_barf.permute(0,2,1), R_barf) - th.eye(3).unsqueeze(0)).abs().max()\n",
    "ours_error = (th.matmul(R_ours.permute(0,2,1), R_ours) - th.eye(3).unsqueeze(0)).abs().max()\n",
    "\n",
    "print(f\"BARF: max(R.T @ R) = {barf_error:.3e}\")\n",
    "print(f\"ours: max(R.T @ R) = {ours_error:.3e}\")"
   ]
  },
  {
   "cell_type": "code",
   "execution_count": 81,
   "metadata": {},
   "outputs": [],
   "source": [
    "random_vector = th.randn(1, 3, requires_grad=True)"
   ]
  },
  {
   "cell_type": "code",
   "execution_count": 37,
   "metadata": {},
   "outputs": [
    {
     "data": {
      "text/plain": [
       "tensor([[[ 2.3842e-07,  1.1921e-07, -3.5763e-07],\n",
       "         [-1.6391e-07, -5.9605e-08,  0.0000e+00],\n",
       "         [ 5.9605e-07,  4.4703e-08, -1.1921e-07]],\n",
       "\n",
       "        [[ 1.1921e-07,  2.9802e-08,  0.0000e+00],\n",
       "         [-2.9802e-08, -1.7881e-07,  0.0000e+00],\n",
       "         [ 0.0000e+00, -2.9802e-08,  0.0000e+00]],\n",
       "\n",
       "        [[-8.9407e-07, -4.5896e-06,  3.3528e-06],\n",
       "         [ 4.8876e-06, -6.5565e-07, -1.1772e-06],\n",
       "         [-2.9504e-06,  1.9819e-06, -3.5763e-07]]])"
      ]
     },
     "execution_count": 37,
     "metadata": {},
     "output_type": "execute_result"
    }
   ],
   "source": [
    "R_barf - R_ours"
   ]
  }
 ],
 "metadata": {
  "kernelspec": {
   "display_name": "nerf-experiments-env",
   "language": "python",
   "name": "python3"
  },
  "language_info": {
   "codemirror_mode": {
    "name": "ipython",
    "version": 3
   },
   "file_extension": ".py",
   "mimetype": "text/x-python",
   "name": "python",
   "nbconvert_exporter": "python",
   "pygments_lexer": "ipython3",
   "version": "3.10.8"
  }
 },
 "nbformat": 4,
 "nbformat_minor": 2
}
