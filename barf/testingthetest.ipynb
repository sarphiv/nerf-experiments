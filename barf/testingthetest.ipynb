{
 "cells": [
  {
   "cell_type": "code",
   "execution_count": 2,
   "metadata": {},
   "outputs": [],
   "source": [
    "import torch as th"
   ]
  },
  {
   "cell_type": "code",
   "execution_count": 8,
   "metadata": {},
   "outputs": [],
   "source": [
    "matrix = th.randn((100, 3, 3))\n",
    "\n",
    "hej = th.matmul(matrix, th.tensor([0,0,-1.]).view(1,3,1))\n",
    "\n",
    "camera_directions = th.matmul(matrix[:, :3, :3], th.tensor([0,0,-1.]).view(1,3,1)).squeeze(-1) # th.stack([th.tensor([0., 0., -1.])@c2w[:3, :3].T for c2w in camera_to_worlds.values()], dim=0)\n",
    "camera_directions2 = th.stack([th.tensor([0., 0., -1.])@c2w[:3, :3].T for c2w in matrix], dim=0)"
   ]
  },
  {
   "cell_type": "code",
   "execution_count": 24,
   "metadata": {},
   "outputs": [
    {
     "ename": "RuntimeError",
     "evalue": "The size of tensor a (640000) must match the size of tensor b (64000000) at non-singleton dimension 1",
     "output_type": "error",
     "traceback": [
      "\u001b[1;31m---------------------------------------------------------------------------\u001b[0m",
      "\u001b[1;31mRuntimeError\u001b[0m                              Traceback (most recent call last)",
      "\u001b[1;32mc:\\Users\\david\\Desktop\\NeRF\\nerf-experiments\\barf\\testingthetest.ipynb Cell 3\u001b[0m line \u001b[0;36m5\n\u001b[0;32m      <a href='vscode-notebook-cell:/c%3A/Users/david/Desktop/NeRF/nerf-experiments/barf/testingthetest.ipynb#W2sZmlsZQ%3D%3D?line=1'>2</a>\u001b[0m matrix \u001b[39m=\u001b[39m th\u001b[39m.\u001b[39mrandn((\u001b[39m100\u001b[39m, \u001b[39m4\u001b[39m, \u001b[39m4\u001b[39m))\n\u001b[0;32m      <a href='vscode-notebook-cell:/c%3A/Users/david/Desktop/NeRF/nerf-experiments/barf/testingthetest.ipynb#W2sZmlsZQ%3D%3D?line=3'>4</a>\u001b[0m hej \u001b[39m=\u001b[39m matrix[:, :\u001b[39m3\u001b[39m, \u001b[39m3\u001b[39m]\u001b[39m.\u001b[39munsqueeze(\u001b[39m1\u001b[39m)\u001b[39m.\u001b[39mrepeat(\u001b[39m1\u001b[39m,meshgrid\u001b[39m.\u001b[39mshape[\u001b[39m0\u001b[39m],\u001b[39m1\u001b[39m)\n\u001b[1;32m----> <a href='vscode-notebook-cell:/c%3A/Users/david/Desktop/NeRF/nerf-experiments/barf/testingthetest.ipynb#W2sZmlsZQ%3D%3D?line=4'>5</a>\u001b[0m hej \u001b[39m-\u001b[39;49m matrix[:, :\u001b[39m3\u001b[39;49m, \u001b[39m3\u001b[39;49m]\u001b[39m.\u001b[39;49mrepeat_interleave(meshgrid\u001b[39m.\u001b[39;49mshape[\u001b[39m0\u001b[39;49m],\u001b[39m0\u001b[39;49m)\n",
      "\u001b[1;31mRuntimeError\u001b[0m: The size of tensor a (640000) must match the size of tensor b (64000000) at non-singleton dimension 1"
     ]
    }
   ],
   "source": [
    "meshgrid = th.randn((800 * 800, 3))\n",
    "matrix = th.randn((100, 4, 4))\n",
    "\n",
    "hej = matrix[:, :3, 3].unsqueeze(1).repeat(1,meshgrid.shape[0],1)\n"
   ]
  },
  {
   "cell_type": "code",
   "execution_count": 29,
   "metadata": {},
   "outputs": [
    {
     "data": {
      "text/plain": [
       "torch.Size([100, 640000, 3, 1])"
      ]
     },
     "execution_count": 29,
     "metadata": {},
     "output_type": "execute_result"
    }
   ],
   "source": [
    "th.matmul(matrix[:, :3, :3].unsqueeze(1), meshgrid.unsqueeze(0).unsqueeze(-1)).squeeze(-1) "
   ]
  },
  {
   "cell_type": "code",
   "execution_count": 30,
   "metadata": {},
   "outputs": [
    {
     "ename": "RuntimeError",
     "evalue": "The size of tensor a (100) must match the size of tensor b (640000) at non-singleton dimension 0",
     "output_type": "error",
     "traceback": [
      "\u001b[1;31m---------------------------------------------------------------------------\u001b[0m",
      "\u001b[1;31mRuntimeError\u001b[0m                              Traceback (most recent call last)",
      "\u001b[1;32mc:\\Users\\david\\Desktop\\NeRF\\nerf-experiments\\barf\\testingthetest.ipynb Cell 5\u001b[0m line \u001b[0;36m1\n\u001b[1;32m----> <a href='vscode-notebook-cell:/c%3A/Users/david/Desktop/NeRF/nerf-experiments/barf/testingthetest.ipynb#W6sZmlsZQ%3D%3D?line=0'>1</a>\u001b[0m th\u001b[39m.\u001b[39;49mmatmul(matrix[:, :\u001b[39m3\u001b[39;49m, :\u001b[39m3\u001b[39;49m], meshgrid\u001b[39m.\u001b[39;49munsqueeze(\u001b[39m-\u001b[39;49m\u001b[39m1\u001b[39;49m))\u001b[39m.\u001b[39mshape\n",
      "\u001b[1;31mRuntimeError\u001b[0m: The size of tensor a (100) must match the size of tensor b (640000) at non-singleton dimension 0"
     ]
    }
   ],
   "source": [
    "th.matmul(matrix[:, :3, :3], meshgrid.unsqueeze(-1)).shape"
   ]
  },
  {
   "cell_type": "code",
   "execution_count": 31,
   "metadata": {},
   "outputs": [
    {
     "data": {
      "text/plain": [
       "torch.Size([100, 1, 3, 3])"
      ]
     },
     "execution_count": 31,
     "metadata": {},
     "output_type": "execute_result"
    }
   ],
   "source": [
    "matrix[:, :3, :3].unsqueeze(1).shape"
   ]
  },
  {
   "cell_type": "code",
   "execution_count": 27,
   "metadata": {},
   "outputs": [
    {
     "data": {
      "text/plain": [
       "torch.Size([1, 640000, 3, 1])"
      ]
     },
     "execution_count": 27,
     "metadata": {},
     "output_type": "execute_result"
    }
   ],
   "source": [
    "meshgrid.unsqueeze(0).unsqueeze(-1).shape"
   ]
  },
  {
   "cell_type": "code",
   "execution_count": 34,
   "metadata": {},
   "outputs": [
    {
     "data": {
      "text/plain": [
       "tensor([0, 0, 1, 0, 1, 1, 0, 2, 3])"
      ]
     },
     "execution_count": 34,
     "metadata": {},
     "output_type": "execute_result"
    }
   ],
   "source": [
    "th.tensor([[0,0,1], [0,1,1], [0,2,3]]).view(-1)"
   ]
  },
  {
   "cell_type": "code",
   "execution_count": 39,
   "metadata": {},
   "outputs": [],
   "source": [
    "def _get_directions_meshgrid(image_width: int, image_height: int, focal_length: float) -> th.Tensor:\n",
    "    \"\"\"\n",
    "    Creates a generic meshgrid of directions that can be transformed to be the direction for any camera by applying the camera to world matrix.\n",
    "    Returns the meshgrid flattened to (H*W, 3).\n",
    "    \"\"\"\n",
    "    # Create unit directions (H, W, 3) in camera space\n",
    "    # NOTE: Initially normalized such that z=-1 via the focal length.\n",
    "    #  Camera is looking in the negative z direction.\n",
    "    #  y-axis is also flipped.\n",
    "    y, x = th.meshgrid(\n",
    "        -th.linspace(-(image_height-1)/2, (image_height-1)/2, image_height) / focal_length,\n",
    "        th.linspace(-(image_width-1)/2, (image_width-1)/2, image_width) / focal_length,\n",
    "        indexing=\"ij\"\n",
    "    )\n",
    "    directions = th.stack((x, y, -th.ones_like(x)), dim=-1)\n",
    "    directions /= th.norm(directions, p=2, dim=-1, keepdim=True)\n",
    "\n",
    "    return directions\n",
    "\n",
    "dirs = _get_directions_meshgrid(800, 1000, 1.0)"
   ]
  },
  {
   "cell_type": "code",
   "execution_count": 40,
   "metadata": {},
   "outputs": [
    {
     "data": {
      "text/plain": [
       "torch.Size([1000, 800, 3])"
      ]
     },
     "execution_count": 40,
     "metadata": {},
     "output_type": "execute_result"
    }
   ],
   "source": [
    "dirs.shape"
   ]
  },
  {
   "cell_type": "code",
   "execution_count": 42,
   "metadata": {},
   "outputs": [
    {
     "data": {
      "text/plain": [
       "tensor([0, 0, 1])"
      ]
     },
     "execution_count": 42,
     "metadata": {},
     "output_type": "execute_result"
    }
   ],
   "source": [
    "th.tensor([[0,0,1], [0,1,1]])[0]"
   ]
  },
  {
   "cell_type": "code",
   "execution_count": 50,
   "metadata": {},
   "outputs": [
    {
     "data": {
      "text/plain": [
       "tensor([5.0000, 1.4142])"
      ]
     },
     "execution_count": 50,
     "metadata": {},
     "output_type": "execute_result"
    }
   ],
   "source": [
    "th.linalg.norm(th.tensor([[0,4.,3.], [0,1,1.]]), dim=1)"
   ]
  },
  {
   "cell_type": "code",
   "execution_count": 46,
   "metadata": {},
   "outputs": [
    {
     "data": {
      "text/plain": [
       "tensor([1.4142])"
      ]
     },
     "execution_count": 46,
     "metadata": {},
     "output_type": "execute_result"
    }
   ],
   "source": [
    "th.sqrt(th.tensor([2.]))"
   ]
  },
  {
   "cell_type": "code",
   "execution_count": 85,
   "metadata": {},
   "outputs": [],
   "source": [
    "from dataset import ImagePoseDataset as new \n",
    "from dataset_old_but_new import ImagePoseDataset as old\n",
    "\n",
    "\n",
    "\n",
    "new = new(40, 40, \"../data/lego/train\", \"../data/lego/transforms_train.json\", rotation_noise_sigma=0.0, translation_noise_sigma=0.0)\n",
    "old = old(40, 40, \"../data/lego/train\", \"../data/lego/transforms_train.json\", gaussian_blur_kernel_size=1)"
   ]
  },
  {
   "cell_type": "code",
   "execution_count": 86,
   "metadata": {},
   "outputs": [],
   "source": [
    "my_image = th.zeros((3, 40, 40))\n",
    "for i in range(40): \n",
    "    for j in range(40):\n",
    "        my_image[:, i, j] = (1 + new[40*40 + 40*i + j][2]) / 2 "
   ]
  },
  {
   "cell_type": "code",
   "execution_count": 87,
   "metadata": {},
   "outputs": [
    {
     "data": {
      "image/png": "[encoded data removed]",
      "text/plain": [
       "<Figure size 640x480 with 1 Axes>"
      ]
     },
     "metadata": {},
     "output_type": "display_data"
    }
   ],
   "source": [
    "import matplotlib.pyplot as plt\n",
    "\n",
    "plt.imshow(my_image.permute(1, 2, 0))\n",
    "plt.show()\n"
   ]
  },
  {
   "cell_type": "code",
   "execution_count": 88,
   "metadata": {},
   "outputs": [],
   "source": [
    "my_image2 = th.zeros((3, 40, 40))\n",
    "for i in range(40): \n",
    "    for j in range(40):\n",
    "        my_image2[:, i, j] = (1 + old[40*40 +40*i + j][2]) / 2 "
   ]
  },
  {
   "cell_type": "code",
   "execution_count": 89,
   "metadata": {},
   "outputs": [
    {
     "data": {
      "image/png": "[encoded data removed]",
      "text/plain": [
       "<Figure size 640x480 with 1 Axes>"
      ]
     },
     "metadata": {},
     "output_type": "display_data"
    }
   ],
   "source": [
    "\n",
    "plt.imshow(my_image2.permute(1, 2, 0))\n",
    "plt.show()"
   ]
  },
  {
   "cell_type": "code",
   "execution_count": 90,
   "metadata": {},
   "outputs": [
    {
     "data": {
      "text/plain": [
       "tensor([[[0., 0., 0.,  ..., 0., 0., 0.],\n",
       "         [0., 0., 0.,  ..., 0., 0., 0.],\n",
       "         [0., 0., 0.,  ..., 0., 0., 0.],\n",
       "         ...,\n",
       "         [0., 0., 0.,  ..., 0., 0., 0.],\n",
       "         [0., 0., 0.,  ..., 0., 0., 0.],\n",
       "         [0., 0., 0.,  ..., 0., 0., 0.]],\n",
       "\n",
       "        [[0., 0., 0.,  ..., 0., 0., 0.],\n",
       "         [0., 0., 0.,  ..., 0., 0., 0.],\n",
       "         [0., 0., 0.,  ..., 0., 0., 0.],\n",
       "         ...,\n",
       "         [0., 0., 0.,  ..., 0., 0., 0.],\n",
       "         [0., 0., 0.,  ..., 0., 0., 0.],\n",
       "         [0., 0., 0.,  ..., 0., 0., 0.]],\n",
       "\n",
       "        [[0., 0., 0.,  ..., 0., 0., 0.],\n",
       "         [0., 0., 0.,  ..., 0., 0., 0.],\n",
       "         [0., 0., 0.,  ..., 0., 0., 0.],\n",
       "         ...,\n",
       "         [0., 0., 0.,  ..., 0., 0., 0.],\n",
       "         [0., 0., 0.,  ..., 0., 0., 0.],\n",
       "         [0., 0., 0.,  ..., 0., 0., 0.]]])"
      ]
     },
     "execution_count": 90,
     "metadata": {},
     "output_type": "execute_result"
    }
   ],
   "source": [
    "(my_image - my_image2)"
   ]
  },
  {
   "cell_type": "code",
   "execution_count": 5,
   "metadata": {},
   "outputs": [
    {
     "data": {
      "text/plain": [
       "tensor([0.4978, 0.5324, 0.7242, 0.6935, 0.7054, 0.2535, 0.5116, 0.2670, 0.3124,\n",
       "        0.1687, 0.6152, 0.3358, 0.5499, 0.5711, 0.5360, 0.5153, 0.0911, 0.8794,\n",
       "        0.3484, 0.1972, 0.7896, 0.5678, 0.4392, 0.5262, 0.7358, 0.1702, 0.4498,\n",
       "        0.4884, 0.3173, 0.0655, 0.8593, 0.9697, 0.4620, 0.6225, 0.5782, 0.8432,\n",
       "        0.5916, 0.7083, 0.3509, 0.2229, 0.1867, 0.1060, 0.2741, 0.6834, 0.3708,\n",
       "        0.1733, 0.5923, 0.4765, 0.2833, 0.3239, 0.4557, 0.8183, 0.9143, 0.3167,\n",
       "        0.5675, 0.3197, 0.8683, 0.2566, 0.6615, 0.2017, 0.4449, 0.2660, 0.5409,\n",
       "        0.5073, 0.6479, 0.6595, 0.1130, 0.7027, 0.0950, 0.2081, 0.4625, 0.4014,\n",
       "        0.7116, 0.9423, 0.2203, 0.6533, 0.0491, 0.4126, 0.1337, 0.4036, 0.4984,\n",
       "        0.0586, 0.2759, 0.6003, 0.2050, 0.4668, 0.0392, 0.0792, 0.3799, 0.5944,\n",
       "        0.8816, 0.2254, 0.7052, 0.4191, 0.4549, 0.2242, 0.4269, 0.8239, 0.5022,\n",
       "        0.4667])"
      ]
     },
     "execution_count": 5,
     "metadata": {},
     "output_type": "execute_result"
    }
   ],
   "source": [
    "import torch as th \n",
    "\n",
    "camera_dirs_pred = th.randn((100, 3))\n",
    "camera_dirs_raw = th.randn((100, 3))    \n",
    "\n",
    "hej = th.arccos(th.matmul(camera_dirs_pred.unsqueeze(-2), camera_dirs_raw.unsqueeze(-1)).squeeze(-1).squeeze(-1) / (th.norm(camera_dirs_pred, dim=1) * th.norm(camera_dirs_raw, dim=1)))/th.pi\n",
    "\n",
    "hej"
   ]
  },
  {
   "cell_type": "code",
   "execution_count": 7,
   "metadata": {},
   "outputs": [
    {
     "data": {
      "text/plain": [
       "tensor([[-0.0000e+00, -5.1513e+02, -0.0000e+00],\n",
       "        [-0.0000e+00, -5.5127e+02, -0.0000e+00],\n",
       "        [ 0.0000e+00,  3.2983e+02,  0.0000e+00],\n",
       "        [-0.0000e+00, -5.0698e+00, -0.0000e+00],\n",
       "        [-0.0000e+00, -7.9055e+01, -0.0000e+00],\n",
       "        [-0.0000e+00, -2.8602e+02, -0.0000e+00],\n",
       "        [ 0.0000e+00,  2.9680e+02,  0.0000e+00],\n",
       "        [ 0.0000e+00,  1.2285e+02,  0.0000e+00],\n",
       "        [-0.0000e+00, -1.3626e+02, -0.0000e+00],\n",
       "        [-0.0000e+00, -2.8597e+02, -0.0000e+00],\n",
       "        [-0.0000e+00, -3.3902e+02, -0.0000e+00],\n",
       "        [-0.0000e+00, -3.3888e+02, -0.0000e+00],\n",
       "        [-0.0000e+00, -7.2763e+01, -0.0000e+00],\n",
       "        [ 0.0000e+00,  1.5861e+00,  0.0000e+00],\n",
       "        [ 0.0000e+00,  3.6856e+01,  0.0000e+00],\n",
       "        [ 0.0000e+00,  3.5390e+02,  0.0000e+00],\n",
       "        [-0.0000e+00, -8.5006e+01, -0.0000e+00],\n",
       "        [ 0.0000e+00,  4.7467e+01,  0.0000e+00],\n",
       "        [-0.0000e+00, -5.3040e+02, -0.0000e+00],\n",
       "        [-0.0000e+00, -3.1435e+02, -0.0000e+00],\n",
       "        [ 0.0000e+00,  1.5069e+02,  0.0000e+00],\n",
       "        [-0.0000e+00, -1.2304e+02, -0.0000e+00],\n",
       "        [ 0.0000e+00,  4.0266e+02,  0.0000e+00],\n",
       "        [ 0.0000e+00,  4.4626e+02,  0.0000e+00],\n",
       "        [ 0.0000e+00,  3.2137e+02,  0.0000e+00],\n",
       "        [ 0.0000e+00,  3.9937e+02,  0.0000e+00],\n",
       "        [ 0.0000e+00,  1.8529e+02,  0.0000e+00],\n",
       "        [-0.0000e+00, -1.6859e+02, -0.0000e+00],\n",
       "        [-0.0000e+00, -1.1557e+01, -0.0000e+00],\n",
       "        [ 0.0000e+00,  1.0420e+02,  0.0000e+00],\n",
       "        [-0.0000e+00, -1.4713e+02, -0.0000e+00],\n",
       "        [ 0.0000e+00,  1.4977e+02,  0.0000e+00],\n",
       "        [-0.0000e+00, -7.9792e+01, -0.0000e+00],\n",
       "        [ 0.0000e+00,  2.5644e+02,  0.0000e+00],\n",
       "        [-0.0000e+00, -2.5814e+01, -0.0000e+00],\n",
       "        [-0.0000e+00, -3.9733e+02, -0.0000e+00],\n",
       "        [ 0.0000e+00,  3.0465e+02,  0.0000e+00],\n",
       "        [-0.0000e+00, -2.6691e+02, -0.0000e+00],\n",
       "        [-0.0000e+00, -3.9745e+02, -0.0000e+00],\n",
       "        [ 0.0000e+00,  9.3752e+01,  0.0000e+00],\n",
       "        [-0.0000e+00, -8.2381e+01, -0.0000e+00],\n",
       "        [-0.0000e+00, -1.4116e+02, -0.0000e+00],\n",
       "        [ 0.0000e+00,  3.1185e+01,  0.0000e+00],\n",
       "        [ 0.0000e+00,  1.1670e+02,  0.0000e+00],\n",
       "        [-0.0000e+00, -1.4959e+02, -0.0000e+00],\n",
       "        [ 0.0000e+00,  2.3784e+02,  0.0000e+00],\n",
       "        [-0.0000e+00, -3.1545e+02, -0.0000e+00],\n",
       "        [ 0.0000e+00,  3.1374e+02,  0.0000e+00],\n",
       "        [ 0.0000e+00,  1.4386e+02,  0.0000e+00],\n",
       "        [ 0.0000e+00,  1.7505e+02,  0.0000e+00],\n",
       "        [ 0.0000e+00,  3.7054e+02,  0.0000e+00],\n",
       "        [-0.0000e+00, -3.6295e+02, -0.0000e+00],\n",
       "        [ 0.0000e+00,  2.6150e+02,  0.0000e+00],\n",
       "        [-0.0000e+00, -2.5396e+02, -0.0000e+00],\n",
       "        [ 0.0000e+00,  3.3173e+02,  0.0000e+00],\n",
       "        [-0.0000e+00, -8.7018e+01, -0.0000e+00],\n",
       "        [-0.0000e+00, -1.5765e+02, -0.0000e+00],\n",
       "        [ 0.0000e+00,  1.5954e+02,  0.0000e+00],\n",
       "        [ 0.0000e+00,  2.5796e+01,  0.0000e+00],\n",
       "        [ 0.0000e+00,  9.3820e+01,  0.0000e+00],\n",
       "        [ 0.0000e+00,  1.6158e+02,  0.0000e+00],\n",
       "        [-0.0000e+00, -1.0248e+02, -0.0000e+00],\n",
       "        [-0.0000e+00, -1.0346e+02, -0.0000e+00],\n",
       "        [-0.0000e+00, -1.9035e+02, -0.0000e+00],\n",
       "        [-0.0000e+00, -9.8855e+01, -0.0000e+00],\n",
       "        [-0.0000e+00, -1.8490e+02, -0.0000e+00],\n",
       "        [-0.0000e+00, -5.7531e+01, -0.0000e+00],\n",
       "        [-0.0000e+00, -5.9526e+01, -0.0000e+00],\n",
       "        [ 0.0000e+00,  5.8081e+02,  0.0000e+00],\n",
       "        [ 0.0000e+00,  9.6542e+01,  0.0000e+00],\n",
       "        [ 0.0000e+00,  4.1286e+02,  0.0000e+00],\n",
       "        [-0.0000e+00, -1.7256e+01, -0.0000e+00],\n",
       "        [-0.0000e+00, -3.3482e+01, -0.0000e+00],\n",
       "        [ 0.0000e+00,  2.4367e+02,  0.0000e+00],\n",
       "        [ 0.0000e+00,  9.7603e+00,  0.0000e+00],\n",
       "        [-0.0000e+00, -1.9415e+02, -0.0000e+00],\n",
       "        [-0.0000e+00, -8.7065e+01, -0.0000e+00],\n",
       "        [ 0.0000e+00,  1.3477e+02,  0.0000e+00],\n",
       "        [-0.0000e+00, -3.2851e+02, -0.0000e+00],\n",
       "        [-0.0000e+00, -5.0104e+02, -0.0000e+00],\n",
       "        [ 0.0000e+00,  1.8096e+02,  0.0000e+00],\n",
       "        [ 0.0000e+00,  4.6660e+02,  0.0000e+00],\n",
       "        [ 0.0000e+00,  1.1508e+02,  0.0000e+00],\n",
       "        [-0.0000e+00, -1.3418e+02, -0.0000e+00],\n",
       "        [ 0.0000e+00,  4.8005e+02,  0.0000e+00],\n",
       "        [ 0.0000e+00,  2.0235e+01,  0.0000e+00],\n",
       "        [ 0.0000e+00,  1.9951e+02,  0.0000e+00],\n",
       "        [-0.0000e+00, -2.9295e+02, -0.0000e+00],\n",
       "        [ 0.0000e+00,  4.5110e+02,  0.0000e+00],\n",
       "        [ 0.0000e+00,  3.7428e-01,  0.0000e+00],\n",
       "        [-0.0000e+00, -8.0398e+01, -0.0000e+00],\n",
       "        [-0.0000e+00, -4.7711e+01, -0.0000e+00],\n",
       "        [-0.0000e+00, -1.9681e+02, -0.0000e+00],\n",
       "        [ 0.0000e+00,  2.6071e+02,  0.0000e+00],\n",
       "        [ 0.0000e+00,  4.2951e+02,  0.0000e+00],\n",
       "        [ 0.0000e+00,  1.4282e+02,  0.0000e+00],\n",
       "        [ 0.0000e+00,  1.9782e+02,  0.0000e+00],\n",
       "        [-0.0000e+00, -2.2490e+02, -0.0000e+00],\n",
       "        [-0.0000e+00, -4.8386e+01, -0.0000e+00],\n",
       "        [ 0.0000e+00,  1.3833e+01,  0.0000e+00]])"
      ]
     },
     "execution_count": 7,
     "metadata": {},
     "output_type": "execute_result"
    }
   ],
   "source": [
    "green = th.tensor([0, 255, 0])\n",
    "\n",
    "thing = th.randn((100, 1))\n",
    "\n",
    "green*thing"
   ]
  },
  {
   "cell_type": "code",
   "execution_count": null,
   "metadata": {},
   "outputs": [],
   "source": [
    "# Transform from PIL image to Tensor\n",
    "self.transform = cast(\n",
    "    Callable[[Image.Image], th.Tensor], \n",
    "    tv.transforms.Compose([\n",
    "        # Transform form PIL image to Tensor\n",
    "        tv.transforms.ToTensor(),\n",
    "        # Resize image\n",
    "        tv.transforms.Resize((self.image_height, self.image_width), antialias=True), # type: ignore\n",
    "        # Transform alpha to white background (removes alpha too)\n",
    "        tv.transforms.Lambda(ImagePoseDataset.transform_alpha_to_white),\n",
    "        # Permute channels to (H, W, C)\n",
    "        # WARN: This is against the convention of PyTorch.\n",
    "        #  Doing it to enable easier batching of rays.\n",
    "        tv.transforms.Lambda(ImagePoseDataset.permute_channels)\n",
    "    ])\n",
    ")\n",
    "\n",
    "\n",
    "# Load each image, transform, and store\n",
    "self.images = {pathlib.PurePath(path).stem: self._open_image(path) for path in os.listdir(self.images_path) }"
   ]
  },
  {
   "cell_type": "code",
   "execution_count": 3,
   "metadata": {},
   "outputs": [],
   "source": [
    "import os \n",
    "import pathlib\n",
    "from PIL import Image, ImageFilter\n",
    "from matplotlib import pyplot as plt\n",
    "import torchvision as tv\n",
    "import torch as th \n",
    "\n",
    "img_height = img_width = 100\n",
    "sigmas = [0, 1.0, 2.0]\n",
    "\n",
    "images_path = \"../data/lego/train\"\n",
    "open_image = lambda path: Image.open(os.path.join(images_path, path))"
   ]
  },
  {
   "cell_type": "code",
   "execution_count": 7,
   "metadata": {},
   "outputs": [
    {
     "name": "stderr",
     "output_type": "stream",
     "text": [
      "<>:1: SyntaxWarning: list indices must be integers or slices, not tuple; perhaps you missed a comma?\n",
      "<>:1: SyntaxWarning: list indices must be integers or slices, not tuple; perhaps you missed a comma?\n",
      "C:\\Users\\david\\AppData\\Local\\Temp\\ipykernel_20452\\4148788618.py:1: SyntaxWarning: list indices must be integers or slices, not tuple; perhaps you missed a comma?\n",
      "  [0.0000, 0.4800, 1.0800, 1.9200, 3.0000][:,:,-1]\n"
     ]
    },
    {
     "ename": "TypeError",
     "evalue": "list indices must be integers or slices, not tuple",
     "output_type": "error",
     "traceback": [
      "\u001b[1;31m---------------------------------------------------------------------------\u001b[0m",
      "\u001b[1;31mTypeError\u001b[0m                                 Traceback (most recent call last)",
      "\u001b[1;32mc:\\Users\\david\\Desktop\\NeRF\\nerf-experiments\\barf\\testingthetest.ipynb Cell 24\u001b[0m line \u001b[0;36m1\n\u001b[1;32m----> <a href='vscode-notebook-cell:/c%3A/Users/david/Desktop/NeRF/nerf-experiments/barf/testingthetest.ipynb#X41sZmlsZQ%3D%3D?line=0'>1</a>\u001b[0m [\u001b[39m0.0000\u001b[39;49m, \u001b[39m0.4800\u001b[39;49m, \u001b[39m1.0800\u001b[39;49m, \u001b[39m1.9200\u001b[39;49m, \u001b[39m3.0000\u001b[39;49m][:,:,\u001b[39m-\u001b[39;49m\u001b[39m1\u001b[39;49m]\n",
      "\u001b[1;31mTypeError\u001b[0m: list indices must be integers or slices, not tuple"
     ]
    }
   ],
   "source": [
    "[0.0000, 0.4800, 1.0800, 1.9200, 3.0000][:,:,-1]"
   ]
  },
  {
   "cell_type": "code",
   "execution_count": 4,
   "metadata": {},
   "outputs": [],
   "source": [
    "def _get_images(images_path: str, img_height: int, img_width, sigmas: list[float]) -> dict[str, list[th.Tensor]]: \n",
    "    \"\"\"\n",
    "    Opens and returns the desired images (with gaussian smoothing applied). \n",
    "    Each image is resized, alpha is converted to white, gaussian smoothing is applied, channels are permuted and it is converted to a tensor. \n",
    "    \"\"\"\n",
    "    # Load the images as PIL.Image's \n",
    "    images = {pathlib.PurePath(path).stem: Image.open(os.path.join(images_path, path)) for path in os.listdir(images_path) }\n",
    "\n",
    "    # Resize each image \n",
    "    images = {name: img.resize((img_height, img_width), Image.BICUBIC) for name, img in images.items()}\n",
    "\n",
    "    # Convert alpha to white background\n",
    "    white_image = Image.new(\"RGBA\", (img_height, img_width), (255, 255, 255, 255))\n",
    "    images = {name: Image.alpha_composite(white_image, img).convert('RGB') for name, img in images.items()}\n",
    "\n",
    "    # Apply gaussian smoothing\n",
    "    images = {name: gaussian_blur(img, sigmas) for name, img in images.items()}\n",
    "\n",
    "    # Convert to tensor\n",
    "    PIL_to_tensor = tv.transforms.ToTensor()\n",
    "    images = {name: th.stack([PIL_to_tensor(img) for img in imgs]) for name, imgs in images.items()}\n",
    "\n",
    "    # Permute channels to (H, W, C)\n",
    "    images = {name: th.tensor(imgs).permute(0, 2, 3, 1) for name, imgs in images.items()}\n",
    "\n",
    "    return images \n",
    "\n",
    "def gaussian_blur(img: Image.Image, sigmas: list[float]) -> list[Image.Image]:\n",
    "    \"\"\"\n",
    "    Apply gaussian blurring to the image with the given sigmas.\n",
    "    \"\"\"\n",
    "    imgs = [] \n",
    "\n",
    "    # Apply gaussian smoothing\n",
    "    for sigma in sigmas:\n",
    "        imgs.append(img.filter(ImageFilter.GaussianBlur(radius=sigma)))\n",
    "\n",
    "    return imgs"
   ]
  },
  {
   "cell_type": "code",
   "execution_count": 5,
   "metadata": {},
   "outputs": [
    {
     "name": "stderr",
     "output_type": "stream",
     "text": [
      "C:\\Users\\david\\AppData\\Local\\Temp\\ipykernel_20452\\2808674252.py:24: UserWarning: To copy construct from a tensor, it is recommended to use sourceTensor.clone().detach() or sourceTensor.clone().detach().requires_grad_(True), rather than torch.tensor(sourceTensor).\n",
      "  images = {name: th.tensor(imgs).permute(0, 2, 3, 1) for name, imgs in images.items()}\n"
     ]
    }
   ],
   "source": [
    "images = _get_images(\"../data/lego/train/\", 40, 40, [0, 0.125, 0.25, 0.5, 1.0, 2.0])"
   ]
  },
  {
   "cell_type": "code",
   "execution_count": 6,
   "metadata": {},
   "outputs": [
    {
     "data": {
      "image/png": "[encoded data removed]",
      "text/plain": [
       "<Figure size 1500x500 with 4 Axes>"
      ]
     },
     "metadata": {},
     "output_type": "display_data"
    }
   ],
   "source": [
    "img0 = images[\"r_0\"][0]\n",
    "img1 = images[\"r_0\"][1]\n",
    "img2 = images[\"r_0\"][2]\n",
    "img3 = images[\"r_0\"][3]\n",
    "\n",
    "# Plot the figues \n",
    "fig, axs = plt.subplots(1, 4, figsize=(15, 5))\n",
    "axs[0].imshow(img0)\n",
    "axs[1].imshow(img1)\n",
    "axs[2].imshow(img2)\n",
    "axs[3].imshow(img3)\n",
    "plt.show()\n"
   ]
  },
  {
   "cell_type": "code",
   "execution_count": 66,
   "metadata": {},
   "outputs": [],
   "source": [
    "images_path, img_height, img_width, sigmas = \"../data/lego/train/\", 400, 400, [0, 1.0, 2.0]\n",
    "\n",
    "# Load the images as PIL.Image's \n",
    "images = {pathlib.PurePath(path).stem: Image.open(os.path.join(images_path, path)) for path in os.listdir(images_path) }\n",
    "\n",
    "# Resize each image \n",
    "images = {name: img.resize((img_height, img_width), Image.BICUBIC) for name, img in images.items()}\n",
    "\n",
    "# Convert alpha to white background\n",
    "white_image = Image.new(\"RGBA\", (img_height, img_width), (255, 255, 255, 255))\n",
    "images = {name: Image.alpha_composite(white_image, img).convert('RGB') for name, img in images.items()}\n",
    "\n",
    "# # Apply gaussian smoothing\n",
    "# images = {name: gaussian_blur(img, sigmas) for name, img in images.items()}\n",
    "\n",
    "# # Permute channels to (H, W, C)\n",
    "# images = {name: [th.tensor(img).permute(2, 0, 1) for img in imgs] for name, imgs in images.items()}\n",
    "\n",
    "# # Convert to tensor\n",
    "# images = {name: [th.stack(imgs, dim=0) for imgs in imgs] for name, imgs in images.items()}"
   ]
  },
  {
   "cell_type": "code",
   "execution_count": 72,
   "metadata": {},
   "outputs": [
    {
     "data": {
      "image/png": "[encoded data removed]",
      "text/plain": [
       "<Figure size 640x480 with 1 Axes>"
      ]
     },
     "metadata": {},
     "output_type": "display_data"
    }
   ],
   "source": [
    "img = images[\"r_0\"]\n",
    "img = img.filter(ImageFilter.GaussianBlur(radius=10.0))\n",
    "\n",
    "plt.imshow(img)\n",
    "plt.show()"
   ]
  },
  {
   "cell_type": "code",
   "execution_count": 43,
   "metadata": {},
   "outputs": [
    {
     "name": "stdout",
     "output_type": "stream",
     "text": [
      "RGB RGB\n"
     ]
    },
    {
     "data": {
      "image/png": "[encoded data removed]",
      "text/plain": [
       "<Figure size 640x480 with 1 Axes>"
      ]
     },
     "metadata": {},
     "output_type": "display_data"
    }
   ],
   "source": [
    "img = Image.open('../data/lego/train/r_0.png')\n",
    "img = img.resize((image_width, image_height), Image.BICUBIC)\n",
    "img = Image.alpha_composite(Image.new('RGBA', img.size, (255, 255, 255, 255)), img)\n",
    "img = img.convert('RGB')\n",
    "\n",
    "\n",
    "plt.imshow(img)\n",
    "plt.show()"
   ]
  },
  {
   "cell_type": "code",
   "execution_count": 7,
   "metadata": {},
   "outputs": [
    {
     "data": {
      "text/plain": [
       "[0, 0, 2, 0, 4, 0, 6, 0, 8, 0]"
      ]
     },
     "execution_count": 7,
     "metadata": {},
     "output_type": "execute_result"
    }
   ],
   "source": [
    "[i if i % 2 == 0 else 0 for i in range(10)]\n"
   ]
  },
  {
   "cell_type": "code",
   "execution_count": null,
   "metadata": {},
   "outputs": [],
   "source": []
  },
  {
   "cell_type": "code",
   "execution_count": 10,
   "metadata": {},
   "outputs": [
    {
     "data": {
      "text/plain": [
       "200000.0"
      ]
     },
     "execution_count": 10,
     "metadata": {},
     "output_type": "execute_result"
    }
   ],
   "source": [
    "float(\"2e+5\")"
   ]
  }
 ],
 "metadata": {
  "kernelspec": {
   "display_name": "Python 3",
   "language": "python",
   "name": "python3"
  },
  "language_info": {
   "codemirror_mode": {
    "name": "ipython",
    "version": 3
   },
   "file_extension": ".py",
   "mimetype": "text/x-python",
   "name": "python",
   "nbconvert_exporter": "python",
   "pygments_lexer": "ipython3",
   "version": "3.11.5"
  }
 },
 "nbformat": 4,
 "nbformat_minor": 2
}
